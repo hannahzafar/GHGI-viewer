{
 "cells": [
  {
   "cell_type": "code",
   "execution_count": 1,
   "id": "e8eb0d8f-4903-4143-bc81-eba1a5edef9c",
   "metadata": {},
   "outputs": [],
   "source": [
    "import pandas as pd\n",
    "import matplotlib.pyplot as plt\n",
    "from pathlib import Path\n",
    "import glob"
   ]
  },
  {
   "cell_type": "code",
   "execution_count": 2,
   "id": "0e882c34-ef4b-4f71-8d92-105a450b0511",
   "metadata": {},
   "outputs": [],
   "source": [
    "base_path  = Path('./EPA_GHGI_2025/2025_Main_Report_Tables') #draft 2025 report (1990-2023)\n",
    "# dataset = 'EPA_GHGI_DataExplorer/Data_Explorer_output.csv' #dataexplorer only goes to the 2024 report 1990-2022"
   ]
  },
  {
   "cell_type": "code",
   "execution_count": 3,
   "id": "f2e90fa2-8300-4e1e-ae09-87a337cdace9",
   "metadata": {},
   "outputs": [],
   "source": [
    "sectors_final = ['Energy', 'Manufacturing', 'Land Management', 'Waste Management']"
   ]
  },
  {
   "cell_type": "code",
   "execution_count": 4,
   "id": "4c5ec4e7-efd4-42ba-b5c3-821c86f21472",
   "metadata": {},
   "outputs": [],
   "source": [
    "sectors_EPA = ['Energy', 'Industrial Processes and Product Use', 'Agriculture', 'Waste', 'Total Gross Emissionsd  (Sources)', \n",
    "'LULUCF Sector Net Totae', 'Net Emission (Sources and Sinks)f']\n",
    "## [SIC] TYPOS IN THE DRAFT REPORT TABLES"
   ]
  },
  {
   "cell_type": "markdown",
   "id": "d6c4a3b7-3150-403f-8205-fc03aee39d43",
   "metadata": {},
   "source": [
    "## Functions"
   ]
  },
  {
   "cell_type": "code",
   "execution_count": 5,
   "id": "84b645a3-3222-46ea-a15b-dd071701f02f",
   "metadata": {},
   "outputs": [],
   "source": [
    "def parse_report_tables(glob_path, notes_start_row):\n",
    "    path = list(base_path.glob(glob_path))[0]\n",
    "\n",
    "    # Notes and title\n",
    "    meta = pd.read_csv(path)\n",
    "    title = meta.columns[0]\n",
    "    notes = meta.iloc[notes_start_row:,0].tolist()\n",
    "\n",
    "    # Data\n",
    "    df_clean = pd.read_csv(path, header=1)\n",
    "    df_clean.set_index(df_clean.columns[0],inplace=True)\n",
    "    df_clean = df_clean.iloc[:notes_start_row-1,:]\n",
    "    return title, notes, df_clean"
   ]
  },
  {
   "cell_type": "markdown",
   "id": "6eccfd99-0bd6-4f0f-865d-84f2c3b104ab",
   "metadata": {},
   "source": [
    "## Emission Types for Each Sector"
   ]
  },
  {
   "cell_type": "markdown",
   "id": "9bf7a1e3-50d1-4616-8a08-c1cf002b7a6f",
   "metadata": {},
   "source": [
    "### Import data and parse"
   ]
  },
  {
   "cell_type": "code",
   "execution_count": 6,
   "id": "cdb74ac0-28ed-480b-9406-f9887b9b1292",
   "metadata": {},
   "outputs": [
    {
     "name": "stdout",
     "output_type": "stream",
     "text": [
      "Table 2-3:  Recent Trends in U.S. Greenhouse Gas Emissions and Sinks by Inventory Sector/Category (MMT CO2 Eq.)\n",
      "+ Does not exceed 0.05 MMT CO2 Eq.\n",
      "a Includes CH4 and N2O emissions from fuel combustion.\n",
      "b Emissions from biomass and biofuel consumption are not included specifically in summing Energy sector totals. Net carbon fluxes from changes in biogenic carbon reservoirs are accounted for in the estimates for LULUCF.\n",
      "c Emissions from international bunker fuels are not included in totals.\n",
      "d SF6 and PFCs from other product use category includes the use of HFCs and NF3.\n",
      "e Total emissions without LULUCF.\n",
      "f LULUCF emissions of CH4 and N2O are reported separately from gross emissions totals. LULUCF emissions include the CH4 and N2O emissions reported for peatlands remaining peatlands, forest fires, drained organic soils, grassland fires, and coastal wetlands remaining coastal wetlands; CH4 emissions from land converted to coastal wetlands, flooded land remaining flooded land, and land converted to flooded land; and N2O emissions from forest soils and settlement soils. Refer to Table 2-8 for a breakout of emissions and removals for LULUCF by gas and source category.\n",
      "g Net emissions with LULUCF.\n",
      "Notes: Total (gross) emissions are presented without LULUCF. Net emissions are presented with LULUCF. Totals may not sum due to independent rounding. Parentheses indicate negative values or sequestration in the report PDF, but are replaced with negative \"-\" symbol before value in this CSV file.\n"
     ]
    }
   ],
   "source": [
    "emit_glob = \"Chapter 2*/Table 2-3.csv\"\n",
    "title_emit, notes_emit, df_emit = parse_report_tables(emit_glob, 64)\n",
    "print(title_emit,*notes_emit, sep='\\n')"
   ]
  },
  {
   "cell_type": "code",
   "execution_count": 7,
   "id": "6fc1f2d3-72f5-46bc-b4ce-dcfda53c4f90",
   "metadata": {},
   "outputs": [],
   "source": [
    "# df_emit"
   ]
  },
  {
   "cell_type": "code",
   "execution_count": 8,
   "id": "9f5ae447-f9a6-4adc-a0e8-1419c34008c7",
   "metadata": {},
   "outputs": [],
   "source": [
    "# WHATEVER VERSION OF THESE TABLES ARE THE DRAFTS NOT THE FINAL REPORT TABLES! TYPOS!!!!!!\n",
    "# df_clean.index.tolist() "
   ]
  },
  {
   "cell_type": "code",
   "execution_count": 9,
   "id": "b42f6075-8007-41c1-a8ef-45602f5802b5",
   "metadata": {},
   "outputs": [
    {
     "data": {
      "text/html": [
       "<div>\n",
       "<style scoped>\n",
       "    .dataframe tbody tr th:only-of-type {\n",
       "        vertical-align: middle;\n",
       "    }\n",
       "\n",
       "    .dataframe tbody tr th {\n",
       "        vertical-align: top;\n",
       "    }\n",
       "\n",
       "    .dataframe thead th {\n",
       "        text-align: right;\n",
       "    }\n",
       "</style>\n",
       "<table border=\"1\" class=\"dataframe\">\n",
       "  <thead>\n",
       "    <tr style=\"text-align: right;\">\n",
       "      <th></th>\n",
       "      <th></th>\n",
       "      <th>2021</th>\n",
       "      <th>2022</th>\n",
       "      <th>2023</th>\n",
       "    </tr>\n",
       "    <tr>\n",
       "      <th>Sector</th>\n",
       "      <th>Inventory Sector/Category</th>\n",
       "      <th></th>\n",
       "      <th></th>\n",
       "      <th></th>\n",
       "    </tr>\n",
       "  </thead>\n",
       "  <tbody>\n",
       "    <tr>\n",
       "      <th rowspan=\"5\" valign=\"top\">Energy</th>\n",
       "      <th>Energy</th>\n",
       "      <td>5170.069933</td>\n",
       "      <td>5196.182383</td>\n",
       "      <td>5050.356406</td>\n",
       "    </tr>\n",
       "    <tr>\n",
       "      <th>Fossil Fuel Combustion</th>\n",
       "      <td>4654.628938</td>\n",
       "      <td>4702.769192</td>\n",
       "      <td>4559.379170</td>\n",
       "    </tr>\n",
       "    <tr>\n",
       "      <th>Natural Gas Systems</th>\n",
       "      <td>210.375072</td>\n",
       "      <td>209.276434</td>\n",
       "      <td>200.135715</td>\n",
       "    </tr>\n",
       "    <tr>\n",
       "      <th>Non-Energy Use of Fuels</th>\n",
       "      <td>111.717610</td>\n",
       "      <td>101.697181</td>\n",
       "      <td>107.069482</td>\n",
       "    </tr>\n",
       "    <tr>\n",
       "      <th>Petroleum Systems</th>\n",
       "      <td>69.212623</td>\n",
       "      <td>58.392610</td>\n",
       "      <td>61.321741</td>\n",
       "    </tr>\n",
       "    <tr>\n",
       "      <th>...</th>\n",
       "      <th>...</th>\n",
       "      <td>...</td>\n",
       "      <td>...</td>\n",
       "      <td>...</td>\n",
       "    </tr>\n",
       "    <tr>\n",
       "      <th rowspan=\"4\" valign=\"top\">LULUCF Sector Net Totae</th>\n",
       "      <th>Cropland</th>\n",
       "      <td>3.001371</td>\n",
       "      <td>3.459028</td>\n",
       "      <td>5.042523</td>\n",
       "    </tr>\n",
       "    <tr>\n",
       "      <th>Grassland</th>\n",
       "      <td>31.069619</td>\n",
       "      <td>34.642917</td>\n",
       "      <td>43.605806</td>\n",
       "    </tr>\n",
       "    <tr>\n",
       "      <th>Wetlands</th>\n",
       "      <td>40.327585</td>\n",
       "      <td>40.370137</td>\n",
       "      <td>40.384680</td>\n",
       "    </tr>\n",
       "    <tr>\n",
       "      <th>Settlements</th>\n",
       "      <td>-52.356995</td>\n",
       "      <td>-52.343588</td>\n",
       "      <td>-51.877617</td>\n",
       "    </tr>\n",
       "    <tr>\n",
       "      <th>Net Emission (Sources and Sinks)f</th>\n",
       "      <th>Net Emission (Sources and Sinks)f</th>\n",
       "      <td>5370.960988</td>\n",
       "      <td>5438.749818</td>\n",
       "      <td>5257.374693</td>\n",
       "    </tr>\n",
       "  </tbody>\n",
       "</table>\n",
       "<p>63 rows × 3 columns</p>\n",
       "</div>"
      ],
      "text/plain": [
       "                                                                            2021  \\\n",
       "Sector                            Inventory Sector/Category                        \n",
       "Energy                            Energy                             5170.069933   \n",
       "                                  Fossil Fuel Combustion             4654.628938   \n",
       "                                  Natural Gas Systems                 210.375072   \n",
       "                                  Non-Energy Use of Fuels             111.717610   \n",
       "                                  Petroleum Systems                    69.212623   \n",
       "...                                                                          ...   \n",
       "LULUCF Sector Net Totae           Cropland                              3.001371   \n",
       "                                  Grassland                            31.069619   \n",
       "                                  Wetlands                             40.327585   \n",
       "                                  Settlements                         -52.356995   \n",
       "Net Emission (Sources and Sinks)f Net Emission (Sources and Sinks)f  5370.960988   \n",
       "\n",
       "                                                                            2022  \\\n",
       "Sector                            Inventory Sector/Category                        \n",
       "Energy                            Energy                             5196.182383   \n",
       "                                  Fossil Fuel Combustion             4702.769192   \n",
       "                                  Natural Gas Systems                 209.276434   \n",
       "                                  Non-Energy Use of Fuels             101.697181   \n",
       "                                  Petroleum Systems                    58.392610   \n",
       "...                                                                          ...   \n",
       "LULUCF Sector Net Totae           Cropland                              3.459028   \n",
       "                                  Grassland                            34.642917   \n",
       "                                  Wetlands                             40.370137   \n",
       "                                  Settlements                         -52.343588   \n",
       "Net Emission (Sources and Sinks)f Net Emission (Sources and Sinks)f  5438.749818   \n",
       "\n",
       "                                                                            2023  \n",
       "Sector                            Inventory Sector/Category                       \n",
       "Energy                            Energy                             5050.356406  \n",
       "                                  Fossil Fuel Combustion             4559.379170  \n",
       "                                  Natural Gas Systems                 200.135715  \n",
       "                                  Non-Energy Use of Fuels             107.069482  \n",
       "                                  Petroleum Systems                    61.321741  \n",
       "...                                                                          ...  \n",
       "LULUCF Sector Net Totae           Cropland                              5.042523  \n",
       "                                  Grassland                            43.605806  \n",
       "                                  Wetlands                             40.384680  \n",
       "                                  Settlements                         -51.877617  \n",
       "Net Emission (Sources and Sinks)f Net Emission (Sources and Sinks)f  5257.374693  \n",
       "\n",
       "[63 rows x 3 columns]"
      ]
     },
     "execution_count": 9,
     "metadata": {},
     "output_type": "execute_result"
    }
   ],
   "source": [
    "# Need to split by subheaders:\n",
    "sector_col = []\n",
    "current_sector = None\n",
    "\n",
    "for idx, row in df_emit.iterrows():\n",
    "    if idx in sectors_EPA:\n",
    "        current_sector = idx\n",
    "        sector_col.append(current_sector)\n",
    "    else:\n",
    "        sector_col.append(current_sector)\n",
    "\n",
    "df_emit['Sector'] = sector_col\n",
    "new_columns = pd.MultiIndex.from_arrays([df_emit['Sector'], df_emit.index.get_level_values(0)])\n",
    "# new_columns[0]\n",
    "\n",
    "df_emit.set_index(new_columns, inplace=True)\n",
    "\n",
    "# Select 2021-2023\n",
    "df_emit_sub = df_emit.iloc[:, -4:-1]\n",
    "df_emit_sub"
   ]
  },
  {
   "cell_type": "code",
   "execution_count": 10,
   "id": "1bf8db7b-56f8-4320-be2e-947f908ee280",
   "metadata": {},
   "outputs": [],
   "source": [
    "#Check the typos were all resolved\n",
    "# df_emit_sub.index.values"
   ]
  },
  {
   "cell_type": "markdown",
   "id": "f2568552-bfb0-45f1-a2b0-9232fa71e1c6",
   "metadata": {},
   "source": [
    "### Reorganize into sectors_final"
   ]
  },
  {
   "cell_type": "code",
   "execution_count": 11,
   "id": "6e205073-cf8c-4119-9021-a897f424ea61",
   "metadata": {
    "scrolled": true
   },
   "outputs": [
    {
     "data": {
      "text/plain": [
       "['Energy', 'Manufacturing', 'Land Management', 'Waste Management']"
      ]
     },
     "execution_count": 11,
     "metadata": {},
     "output_type": "execute_result"
    }
   ],
   "source": [
    "sectors_final"
   ]
  },
  {
   "cell_type": "code",
   "execution_count": 12,
   "id": "2d190b19-7baa-4017-9016-5e96bcd8a7a9",
   "metadata": {},
   "outputs": [],
   "source": [
    "# Energy\n",
    "df_E = df_emit_sub.loc[sectors_EPA[0]].drop([sectors_EPA[0]])\n",
    "# df_E[\"2021-2023 Average\"] = df_E.mean(axis=1)\n",
    "\n",
    "# Manufacturing\n",
    "df_M = df_emit_sub.loc[sectors_EPA[1]].drop([sectors_EPA[1]])\n",
    "# df_M[\"2021-2023 Average\"] = df_M.mean(axis=1)\n",
    "\n",
    "# Land mgmt\n",
    "df_L1 = df_emit_sub.loc[sectors_EPA[2]].drop([sectors_EPA[2]])\n",
    "df_L2 = df_emit_sub.loc[sectors_EPA[5]].drop([sectors_EPA[5]])\n",
    "df_L = pd.concat([df_L1, df_L2])\n",
    "# df_L[\"2021-2023 Average\"] = df_L.mean(axis=1)\n",
    "\n",
    "\n",
    "# Waste mgmt\n",
    "df_W = df_emit_sub.loc[sectors_EPA[3]].drop([sectors_EPA[3]])\n",
    "# df_W[\"2021-2023 Average\"] = df_W.mean(axis=1)\n",
    "\n",
    "\n",
    "# Store dataframes in a dictionary\n",
    "dataframes_emittype = {\n",
    "    sectors_final[0]: df_E,\n",
    "    sectors_final[1]: df_M,\n",
    "    sectors_final[2]: df_L,\n",
    "    sectors_final[3]: df_W,\n",
    "    \n",
    "}"
   ]
  },
  {
   "cell_type": "markdown",
   "id": "fa7c3fcd-72a3-40d3-bc6e-cd90f7236a00",
   "metadata": {},
   "source": [
    "### Calculate average and percents and write out"
   ]
  },
  {
   "cell_type": "code",
   "execution_count": 16,
   "id": "d0ae380c-f74d-40e1-b597-e7a9b208b961",
   "metadata": {},
   "outputs": [],
   "source": [
    "# Write to csv:\n",
    "for key, df in dataframes_emittype.items():\n",
    "    df[\"2021-2023 Average\"] = df.mean(axis=1)\n",
    "    if key != sectors_final[2]:\n",
    "        df[\"Percent\"] = (df.iloc[:,-1] / df.iloc[:,-1].sum())*100 # Calculate percent for all but land management\n",
    "    output=f'output_tables/{key}_Sectors.csv'\n",
    "    df.to_csv(output)"
   ]
  },
  {
   "cell_type": "markdown",
   "id": "48ccb7a5-20aa-4c22-a89c-5aa4fdf484d1",
   "metadata": {},
   "source": [
    "## Emission Gas Type for Each Sector"
   ]
  },
  {
   "cell_type": "markdown",
   "id": "38c51429-6b37-427f-882f-9cb2b290a5a2",
   "metadata": {},
   "source": [
    "### Energy"
   ]
  },
  {
   "cell_type": "code",
   "execution_count": 17,
   "id": "5571d8fd-d84d-4183-825c-3c7c031bb474",
   "metadata": {},
   "outputs": [
    {
     "name": "stdout",
     "output_type": "stream",
     "text": [
      "Table 2-4:  Emissions from Energy by Gas (MMT CO2 Eq.) [2]\n",
      "+ Does not exceed 0.05 MMT CO2 Eq.\n",
      "a Emissions from biomass and biofuel consumption are not included specifically in Energy sector totals. Net carbon fluxes from changes in biogenic carbon reservoirs are accounted for in the estimates for LULUCF.\n",
      "b Emissions from international bunker fuels are not included in totals. These values are presented for informational purposes only, in line with the 2006 IPCC Guidelines, the national inventory reporting guidelines.\n",
      "Note: Totals may not sum due to independent rounding. \n"
     ]
    }
   ],
   "source": [
    "energy_gas_glob = \"Chapter 2*/Table 2-4.csv\"\n",
    "title_E_gas, notes_E_gas, df_E_gas = parse_report_tables(energy_gas_glob, 39)\n",
    "print(title_E_gas,*notes_E_gas, sep='\\n')"
   ]
  },
  {
   "cell_type": "code",
   "execution_count": 18,
   "id": "7fef1bc1-fdf8-4e44-9e2f-5ed878346870",
   "metadata": {},
   "outputs": [
    {
     "data": {
      "text/html": [
       "<div>\n",
       "<style scoped>\n",
       "    .dataframe tbody tr th:only-of-type {\n",
       "        vertical-align: middle;\n",
       "    }\n",
       "\n",
       "    .dataframe tbody tr th {\n",
       "        vertical-align: top;\n",
       "    }\n",
       "\n",
       "    .dataframe thead th {\n",
       "        text-align: right;\n",
       "    }\n",
       "</style>\n",
       "<table border=\"1\" class=\"dataframe\">\n",
       "  <thead>\n",
       "    <tr style=\"text-align: right;\">\n",
       "      <th></th>\n",
       "      <th>2021</th>\n",
       "      <th>2022</th>\n",
       "      <th>2023</th>\n",
       "    </tr>\n",
       "    <tr>\n",
       "      <th>Gas/Source</th>\n",
       "      <th></th>\n",
       "      <th></th>\n",
       "      <th></th>\n",
       "    </tr>\n",
       "  </thead>\n",
       "  <tbody>\n",
       "    <tr>\n",
       "      <th>CO2</th>\n",
       "      <td>4841.185868</td>\n",
       "      <td>4877.978213</td>\n",
       "      <td>4742.335937</td>\n",
       "    </tr>\n",
       "    <tr>\n",
       "      <th>CH4</th>\n",
       "      <td>289.633031</td>\n",
       "      <td>278.650522</td>\n",
       "      <td>271.853658</td>\n",
       "    </tr>\n",
       "    <tr>\n",
       "      <th>N2O</th>\n",
       "      <td>39.251035</td>\n",
       "      <td>39.553648</td>\n",
       "      <td>36.166811</td>\n",
       "    </tr>\n",
       "  </tbody>\n",
       "</table>\n",
       "</div>"
      ],
      "text/plain": [
       "                   2021         2022         2023\n",
       "Gas/Source                                       \n",
       "CO2         4841.185868  4877.978213  4742.335937\n",
       "CH4          289.633031   278.650522   271.853658\n",
       "N2O           39.251035    39.553648    36.166811"
      ]
     },
     "execution_count": 18,
     "metadata": {},
     "output_type": "execute_result"
    }
   ],
   "source": [
    "gas_energy = ['CO2','CH4', 'N2O']\n",
    "df_E_gas_sub = df_E_gas.loc[gas_energy].iloc[:, -4:-1]\n",
    "df_E_gas_sub"
   ]
  },
  {
   "cell_type": "markdown",
   "id": "dc8be813-79c4-4add-8b6e-1acbf2fdb052",
   "metadata": {},
   "source": [
    "### Manufacturing"
   ]
  },
  {
   "cell_type": "code",
   "execution_count": 19,
   "id": "3a277f69-b5d4-4a70-b525-466998c3df8d",
   "metadata": {},
   "outputs": [
    {
     "name": "stdout",
     "output_type": "stream",
     "text": [
      "Table 2-6:  Emissions from Industrial Processes and Product Use (MMT CO2 Eq.)\n",
      "+ Does not exceed 0.05 MMT CO2 Eq.\n",
      "a Small amounts of PFC emissions from this source are included under HFCs due to confidential business information.\n",
      "Note: Totals may not sum due to independent rounding.\n"
     ]
    }
   ],
   "source": [
    "man_gas_glob = \"Chapter 2*/Table 2-6.csv\"\n",
    "title_M_gas, notes_M_gas, df_M_gas = parse_report_tables(man_gas_glob, 58)\n",
    "print(title_M_gas,*notes_M_gas, sep='\\n')"
   ]
  },
  {
   "cell_type": "code",
   "execution_count": 20,
   "id": "36162e10-37e4-495b-86bc-e695f7c37fa6",
   "metadata": {},
   "outputs": [
    {
     "data": {
      "text/html": [
       "<div>\n",
       "<style scoped>\n",
       "    .dataframe tbody tr th:only-of-type {\n",
       "        vertical-align: middle;\n",
       "    }\n",
       "\n",
       "    .dataframe tbody tr th {\n",
       "        vertical-align: top;\n",
       "    }\n",
       "\n",
       "    .dataframe thead th {\n",
       "        text-align: right;\n",
       "    }\n",
       "</style>\n",
       "<table border=\"1\" class=\"dataframe\">\n",
       "  <thead>\n",
       "    <tr style=\"text-align: right;\">\n",
       "      <th></th>\n",
       "      <th>2021</th>\n",
       "      <th>2022</th>\n",
       "      <th>2023</th>\n",
       "    </tr>\n",
       "    <tr>\n",
       "      <th></th>\n",
       "      <th></th>\n",
       "      <th></th>\n",
       "      <th></th>\n",
       "    </tr>\n",
       "  </thead>\n",
       "  <tbody>\n",
       "    <tr>\n",
       "      <th>CO2</th>\n",
       "      <td>171.433258</td>\n",
       "      <td>169.037333</td>\n",
       "      <td>165.532915</td>\n",
       "    </tr>\n",
       "    <tr>\n",
       "      <th>CH4</th>\n",
       "      <td>0.035034</td>\n",
       "      <td>0.035898</td>\n",
       "      <td>0.036106</td>\n",
       "    </tr>\n",
       "    <tr>\n",
       "      <th>N2O</th>\n",
       "      <td>19.718749</td>\n",
       "      <td>16.078250</td>\n",
       "      <td>14.859472</td>\n",
       "    </tr>\n",
       "    <tr>\n",
       "      <th>HFCs</th>\n",
       "      <td>184.268791</td>\n",
       "      <td>189.518123</td>\n",
       "      <td>190.968214</td>\n",
       "    </tr>\n",
       "    <tr>\n",
       "      <th>PFCs</th>\n",
       "      <td>6.313880</td>\n",
       "      <td>6.524678</td>\n",
       "      <td>5.771697</td>\n",
       "    </tr>\n",
       "    <tr>\n",
       "      <th>SF6</th>\n",
       "      <td>7.996214</td>\n",
       "      <td>7.233500</td>\n",
       "      <td>7.724037</td>\n",
       "    </tr>\n",
       "    <tr>\n",
       "      <th>NF3</th>\n",
       "      <td>1.127476</td>\n",
       "      <td>1.123111</td>\n",
       "      <td>0.815250</td>\n",
       "    </tr>\n",
       "  </tbody>\n",
       "</table>\n",
       "</div>"
      ],
      "text/plain": [
       "            2021        2022        2023\n",
       "                                        \n",
       "CO2   171.433258  169.037333  165.532915\n",
       "CH4     0.035034    0.035898    0.036106\n",
       "N2O    19.718749   16.078250   14.859472\n",
       "HFCs  184.268791  189.518123  190.968214\n",
       "PFCs    6.313880    6.524678    5.771697\n",
       "SF6     7.996214    7.233500    7.724037\n",
       "NF3     1.127476    1.123111    0.815250"
      ]
     },
     "execution_count": 20,
     "metadata": {},
     "output_type": "execute_result"
    }
   ],
   "source": [
    "gas_man = ['CO2','CH4', 'N2O', 'HFCs', 'PFCs', 'SF6', 'NF3']\n",
    "df_M_gas_sub = df_M_gas.loc[gas_man].iloc[:, -4:-1]\n",
    "df_M_gas_sub"
   ]
  },
  {
   "cell_type": "markdown",
   "id": "b1158e85-b98d-4190-9bd3-047c5cd8d3d9",
   "metadata": {},
   "source": [
    "### Land Management (this needs work for the land use/change table - how do I extract gases)"
   ]
  },
  {
   "cell_type": "markdown",
   "id": "078bc1b6-8e47-4098-8e8a-432f4afe7ded",
   "metadata": {},
   "source": [
    "### Agriculture"
   ]
  },
  {
   "cell_type": "code",
   "execution_count": 21,
   "id": "c5075204-eac1-4810-a55a-415dd27476be",
   "metadata": {},
   "outputs": [
    {
     "name": "stdout",
     "output_type": "stream",
     "text": [
      "Table 2-7:  Emissions from Agriculture (MMT CO2 Eq.)\n",
      "Note: Totals may not sum due to independent rounding.\n"
     ]
    }
   ],
   "source": [
    "land1_gas_glob = \"Chapter 2*/Table 2-7.csv\"\n",
    "title_L1_gas, notes_L1_gas, df_L1_gas = parse_report_tables(land1_gas_glob, 14)\n",
    "print(title_L1_gas,*notes_L1_gas, sep='\\n')"
   ]
  },
  {
   "cell_type": "code",
   "execution_count": 22,
   "id": "5c3283a0-b45a-4f65-bec1-1e7483b9e61c",
   "metadata": {},
   "outputs": [
    {
     "data": {
      "text/html": [
       "<div>\n",
       "<style scoped>\n",
       "    .dataframe tbody tr th:only-of-type {\n",
       "        vertical-align: middle;\n",
       "    }\n",
       "\n",
       "    .dataframe tbody tr th {\n",
       "        vertical-align: top;\n",
       "    }\n",
       "\n",
       "    .dataframe thead th {\n",
       "        text-align: right;\n",
       "    }\n",
       "</style>\n",
       "<table border=\"1\" class=\"dataframe\">\n",
       "  <thead>\n",
       "    <tr style=\"text-align: right;\">\n",
       "      <th></th>\n",
       "      <th>2021</th>\n",
       "      <th>2022</th>\n",
       "      <th>2023</th>\n",
       "    </tr>\n",
       "    <tr>\n",
       "      <th>Gas/Source</th>\n",
       "      <th></th>\n",
       "      <th></th>\n",
       "      <th></th>\n",
       "    </tr>\n",
       "  </thead>\n",
       "  <tbody>\n",
       "    <tr>\n",
       "      <th>CO2</th>\n",
       "      <td>7.491839</td>\n",
       "      <td>8.387506</td>\n",
       "      <td>10.537832</td>\n",
       "    </tr>\n",
       "    <tr>\n",
       "      <th>CH4</th>\n",
       "      <td>282.037265</td>\n",
       "      <td>275.897637</td>\n",
       "      <td>271.568195</td>\n",
       "    </tr>\n",
       "    <tr>\n",
       "      <th>N2O</th>\n",
       "      <td>316.298203</td>\n",
       "      <td>308.971066</td>\n",
       "      <td>313.291939</td>\n",
       "    </tr>\n",
       "  </tbody>\n",
       "</table>\n",
       "</div>"
      ],
      "text/plain": [
       "                  2021        2022        2023\n",
       "Gas/Source                                    \n",
       "CO2           7.491839    8.387506   10.537832\n",
       "CH4         282.037265  275.897637  271.568195\n",
       "N2O         316.298203  308.971066  313.291939"
      ]
     },
     "execution_count": 22,
     "metadata": {},
     "output_type": "execute_result"
    }
   ],
   "source": [
    "gas_land1 = ['CO2','CH4', 'N2O']\n",
    "df_L1_gas_sub = df_L1_gas.loc[gas_land1].iloc[:, -4:-1]\n",
    "df_L1_gas_sub"
   ]
  },
  {
   "cell_type": "markdown",
   "id": "1271e2e4-9d42-403e-8732-1e32069fe882",
   "metadata": {},
   "source": [
    "### Land Use, Land-Use Change, Forestry (LULCF)"
   ]
  },
  {
   "cell_type": "code",
   "execution_count": 23,
   "id": "1b9c872d-f553-474e-9c95-a968dbdd9b93",
   "metadata": {},
   "outputs": [],
   "source": [
    "land2_gas_glob = \"Chapter 6*/Table 6-2.csv\"\n",
    "title_L2_gas, _, df_L2_gas = parse_report_tables(land2_gas_glob, 32) # The notes are in another column"
   ]
  },
  {
   "cell_type": "code",
   "execution_count": 24,
   "id": "1a3199f8-67d2-40ce-bc43-3b95493ab2cf",
   "metadata": {},
   "outputs": [
    {
     "name": "stdout",
     "output_type": "stream",
     "text": [
      "Table 6-2:  Emissions and Removals from Land Use, Land-Use Change, and Forestry by Gas (MMT CO2 Eq.)\n",
      "['+ ', 'Absolute value does not exceed 0.05 MMT CO2 Eq.']\n",
      "['a', 'LULUCF carbon stock change is the net carbon stock change from the following categories: forest land remaining forest land, land converted to forest land, cropland remaining cropland, land converted to cropland, grassland remaining grassland, land converted to grassland, wetlands remaining wetlands, land converted to wetlands, settlements remaining settlements, and land converted to settlements.']\n",
      "['b', 'Estimates include CH4 and N2O emissions from fires on both forest land remaining forest land and land converted to forest land.']\n",
      "['c', 'Estimates include CH4 and N2O emissions from drained organic soils on both forest land remaining forest land and land converted to forest land.']\n",
      "['d', 'Estimates include CH4 and N2O emissions from fires on both grassland remaining grassland and land converted to grassland.']\n",
      "['e', 'Estimates include N2O emissions from nitrogen fertilizer additions on both forest land remaining forest land and land converted to forest land.']\n",
      "['f', 'Estimates include N2O emissions from nitrogen fertilizer additions on both settlements remaining settlements and land converted to settlements.']\n",
      "['g', 'LULUCF emissions include the CH4 and N2O emissions reported for peatlands remaining peatlands, forest fires, drained organic soils, grassland fires, and coastal wetlands remaining coastal wetlands; CH4 emissions from flooded land remaining flooded land, land converted to flooded land, and land converted to coastal wetlands; and N2O emissions from forest soils and settlement soils.']\n",
      "['h', 'The LULUCF sector net total is the net sum of all LULUCF CH4 and N2O emissions to the atmosphere plus LULUCF net carbon stock changes in units of MMT CO2 Eq.']\n",
      "['Notes: Totals may not sum due to independent rounding. Parentheses indicate net sequestration.', nan]\n"
     ]
    }
   ],
   "source": [
    "metaL2 = pd.read_csv(list(base_path.glob(land2_gas_glob))[0])\n",
    "notes_L2_gas = metaL2.iloc[32:,:2].values.tolist()\n",
    "print(title_L2_gas,*notes_L2_gas, sep='\\n')"
   ]
  },
  {
   "cell_type": "code",
   "execution_count": 25,
   "id": "02ed0298-850d-47d6-8956-16e586847b7a",
   "metadata": {},
   "outputs": [],
   "source": [
    "gas_land2 = ['Carbon Stock Change (CO2)a','CH4', 'N2O']\n",
    "df_L2_gas_sub = df_L2_gas.loc[gas_land2].iloc[:, -3:]\n",
    "df_L2_gas_sub = df_L2_gas_sub.rename(index={'Carbon Stock Change (CO2)a':'CO2'})"
   ]
  },
  {
   "cell_type": "markdown",
   "id": "dc8bafcb-ab77-4aba-a218-e9b73a577951",
   "metadata": {},
   "source": [
    "### Combine L1 and L2"
   ]
  },
  {
   "cell_type": "code",
   "execution_count": 26,
   "id": "658dd48a-fa08-4258-a9a5-04a29e94c838",
   "metadata": {},
   "outputs": [
    {
     "data": {
      "text/html": [
       "<div>\n",
       "<style scoped>\n",
       "    .dataframe tbody tr th:only-of-type {\n",
       "        vertical-align: middle;\n",
       "    }\n",
       "\n",
       "    .dataframe tbody tr th {\n",
       "        vertical-align: top;\n",
       "    }\n",
       "\n",
       "    .dataframe thead th {\n",
       "        text-align: right;\n",
       "    }\n",
       "</style>\n",
       "<table border=\"1\" class=\"dataframe\">\n",
       "  <thead>\n",
       "    <tr style=\"text-align: right;\">\n",
       "      <th></th>\n",
       "      <th>2021</th>\n",
       "      <th>2022</th>\n",
       "      <th>2023</th>\n",
       "    </tr>\n",
       "    <tr>\n",
       "      <th>Gas/Source</th>\n",
       "      <th></th>\n",
       "      <th></th>\n",
       "      <th></th>\n",
       "    </tr>\n",
       "  </thead>\n",
       "  <tbody>\n",
       "    <tr>\n",
       "      <th>CO2</th>\n",
       "      <td>-1036.308161</td>\n",
       "      <td>-965.512494</td>\n",
       "      <td>-989.962168</td>\n",
       "    </tr>\n",
       "    <tr>\n",
       "      <th>CH4</th>\n",
       "      <td>349.837265</td>\n",
       "      <td>335.497637</td>\n",
       "      <td>326.268195</td>\n",
       "    </tr>\n",
       "    <tr>\n",
       "      <th>N2O</th>\n",
       "      <td>329.398203</td>\n",
       "      <td>317.971066</td>\n",
       "      <td>319.191939</td>\n",
       "    </tr>\n",
       "  </tbody>\n",
       "</table>\n",
       "</div>"
      ],
      "text/plain": [
       "                   2021        2022        2023\n",
       "Gas/Source                                     \n",
       "CO2        -1036.308161 -965.512494 -989.962168\n",
       "CH4          349.837265  335.497637  326.268195\n",
       "N2O          329.398203  317.971066  319.191939"
      ]
     },
     "execution_count": 26,
     "metadata": {},
     "output_type": "execute_result"
    }
   ],
   "source": [
    "df_L_gas_sub = df_L1_gas_sub + df_L2_gas_sub\n",
    "df_L_gas_sub"
   ]
  },
  {
   "cell_type": "markdown",
   "id": "011764d9-efc6-40f0-ba7e-014dc2ce7d83",
   "metadata": {},
   "source": [
    "### Waste Management"
   ]
  },
  {
   "cell_type": "code",
   "execution_count": 27,
   "id": "5678d458-0fb3-40b4-8959-10f67a77ce80",
   "metadata": {},
   "outputs": [
    {
     "name": "stdout",
     "output_type": "stream",
     "text": [
      "Table 2-9:  Emissions from Waste (MMT CO2 Eq.)\n",
      "+ Does not exceed 0.05 MMT CO2 Eq.\n",
      "Note: Totals may not sum due to independent rounding.\n"
     ]
    }
   ],
   "source": [
    "man_was_glob = \"Chapter 2*/Table 2-9.csv\"\n",
    "title_W_gas, notes_W_gas, df_W_gas = parse_report_tables(man_was_glob, 10)\n",
    "print(title_W_gas,*notes_W_gas, sep='\\n')"
   ]
  },
  {
   "cell_type": "code",
   "execution_count": 28,
   "id": "25536896-7e5f-48e3-825b-13c43c24ebda",
   "metadata": {},
   "outputs": [
    {
     "data": {
      "text/html": [
       "<div>\n",
       "<style scoped>\n",
       "    .dataframe tbody tr th:only-of-type {\n",
       "        vertical-align: middle;\n",
       "    }\n",
       "\n",
       "    .dataframe tbody tr th {\n",
       "        vertical-align: top;\n",
       "    }\n",
       "\n",
       "    .dataframe thead th {\n",
       "        text-align: right;\n",
       "    }\n",
       "</style>\n",
       "<table border=\"1\" class=\"dataframe\">\n",
       "  <thead>\n",
       "    <tr style=\"text-align: right;\">\n",
       "      <th></th>\n",
       "      <th>2021</th>\n",
       "      <th>2022</th>\n",
       "      <th>2023</th>\n",
       "    </tr>\n",
       "    <tr>\n",
       "      <th>Gas/Source</th>\n",
       "      <th></th>\n",
       "      <th></th>\n",
       "      <th></th>\n",
       "    </tr>\n",
       "  </thead>\n",
       "  <tbody>\n",
       "    <tr>\n",
       "      <th>CH4</th>\n",
       "      <td>143.926410</td>\n",
       "      <td>142.180520</td>\n",
       "      <td>143.202959</td>\n",
       "    </tr>\n",
       "    <tr>\n",
       "      <th>N2O</th>\n",
       "      <td>23.094419</td>\n",
       "      <td>22.920659</td>\n",
       "      <td>22.646561</td>\n",
       "    </tr>\n",
       "  </tbody>\n",
       "</table>\n",
       "</div>"
      ],
      "text/plain": [
       "                  2021        2022        2023\n",
       "Gas/Source                                    \n",
       "CH4         143.926410  142.180520  143.202959\n",
       "N2O          23.094419   22.920659   22.646561"
      ]
     },
     "execution_count": 28,
     "metadata": {},
     "output_type": "execute_result"
    }
   ],
   "source": [
    "gas_was = ['CH4', 'N2O']\n",
    "df_W_gas_sub = df_W_gas.loc[gas_was].iloc[:, -4:-1]\n",
    "df_W_gas_sub"
   ]
  },
  {
   "cell_type": "markdown",
   "id": "8c386c61-836f-449b-8eed-2eacd9e832aa",
   "metadata": {},
   "source": [
    "### Make dictionary of dataframes by emittype"
   ]
  },
  {
   "cell_type": "code",
   "execution_count": 29,
   "id": "c30d75e7-7936-4c27-af40-619ad714d3e0",
   "metadata": {},
   "outputs": [],
   "source": [
    "dataframes_gastype = {\n",
    "    sectors_final[0]: df_E_gas_sub,\n",
    "    sectors_final[1]: df_M_gas_sub,\n",
    "    sectors_final[2]: df_L_gas_sub,\n",
    "    sectors_final[3]: df_W_gas_sub,\n",
    "    \n",
    "}"
   ]
  },
  {
   "cell_type": "code",
   "execution_count": null,
   "id": "1865438f-e6bf-43f0-adee-5e8bfdb48f3b",
   "metadata": {},
   "outputs": [],
   "source": [
    "# for df in dataframes_gastype.values():\n",
    "#     # print(df)\n",
    "#     df[\"2021-2023 Average\"] = df.mean(axis=1)\n",
    "#     df[\"Percent\"] = (df.iloc[:,-1] / df.iloc[:,-1].sum())*100"
   ]
  },
  {
   "cell_type": "code",
   "execution_count": 30,
   "id": "3fd43684-b923-4c40-b87b-3c39bd931866",
   "metadata": {},
   "outputs": [],
   "source": [
    "# Write to csv:\n",
    "for key, df in dataframes_gastype.items():\n",
    "    df[\"2021-2023 Average\"] = df.mean(axis=1)\n",
    "    if key != sectors_final[2]:\n",
    "        df[\"Percent\"] = (df.iloc[:,-1] / df.iloc[:,-1].sum())*100 # Calculate percent for all but land management\n",
    "    output=f'output_tables/{key}_Gases.csv'\n",
    "    df.to_csv(output)"
   ]
  },
  {
   "cell_type": "code",
   "execution_count": null,
   "id": "3fd6f7e3-a7a9-409b-9290-bfeab200d504",
   "metadata": {},
   "outputs": [],
   "source": [
    "# dataframes_emittype\n",
    "# dataframes_gastype"
   ]
  },
  {
   "cell_type": "markdown",
   "id": "a34a3c23-a51d-4508-8366-b25d0f66947b",
   "metadata": {},
   "source": [
    "## Plot"
   ]
  },
  {
   "cell_type": "code",
   "execution_count": null,
   "id": "2565c5ab-68db-42f2-86ec-9ed030661707",
   "metadata": {},
   "outputs": [],
   "source": [
    "# fig.suptitle('2021-2023 Average Emissions',y=0.95)\n",
    "for (idx, (sector, df1)), (idx, (sector, df2)) in zip(enumerate(dataframes_emittype.items()), enumerate(dataframes_gastype.items())):\n",
    "    # Skip land use\n",
    "    if idx==2:\n",
    "        continue\n",
    "    else:\n",
    "        fig, ax = plt.subplots(1, 2, figsize=(12,10), \n",
    "                       constrained_layout=True\n",
    "                      )\n",
    "        fig.suptitle(sector, y=0.9)\n",
    "        \n",
    "        df1_avg = df1.mean(axis=1).to_frame('2021-2023 Average')\n",
    "        df1_avg[\"Percent\"] = (df1_avg.iloc[:, 0] / df1_avg.iloc[:, 0].sum()).apply(lambda x: f\"{x:.3%}\")\n",
    "        # print(df1_avg)\n",
    "        ax[0].pie(df1_avg.iloc[:,0], \n",
    "                           startangle=90,)\n",
    "        ax[0].legend(df1_avg.index,\n",
    "                    # loc=\"best\",\n",
    "                    )\n",
    "        ax[0].set_title('Emission Type')\n",
    "\n",
    "        df2_avg = df2.mean(axis=1).to_frame('2021-2023 Average')\n",
    "        df2_avg[\"Percent\"] = (df2_avg.iloc[:, 0] / df2_avg.iloc[:, 0].sum()).apply(lambda x: f\"{x:.3%}\")\n",
    "        ax[1].pie(df2_avg.iloc[:,0], \n",
    "                           startangle=90,)\n",
    "        ax[1].legend(df2_avg.index)\n",
    "        \n",
    "        ax[1].set_title('Gas Type')\n",
    "\n",
    "                # # axis.legend(labels, \n",
    "        # #             fontsize=9,\n",
    "        # #             bbox_to_anchor=(2, 0.5)\n",
    "        # #            )\n",
    "    \n",
    "        # # labels = [f\"{label}: {percent}\" for label, percent in zip(df_avg.index, df_avg['Percent'])]\n",
    "        # # axis = ax.flat[idx]\n",
    "        # # axis.pie(df_avg.iloc[:,0], \n",
    "        # #                    startangle=90,\n",
    "        # #                   )\n",
    "        # # axis.legend(labels, \n",
    "        # #             loc=\"center right\", \n",
    "        # #             fontsize=9,\n",
    "        # #             bbox_to_anchor=(2, 0.5)$ \n",
    "        # #            )\n"
   ]
  },
  {
   "cell_type": "code",
   "execution_count": null,
   "id": "39da093b-d73e-4db2-95e9-60ea3ad3e9d3",
   "metadata": {},
   "outputs": [],
   "source": []
  },
  {
   "cell_type": "code",
   "execution_count": null,
   "id": "ab9adf27-d71c-4059-b369-e5960cdee359",
   "metadata": {},
   "outputs": [],
   "source": []
  }
 ],
 "metadata": {
  "kernelspec": {
   "display_name": "GHGI-viewer",
   "language": "python",
   "name": "ghgi-viewer"
  },
  "language_info": {
   "codemirror_mode": {
    "name": "ipython",
    "version": 3
   },
   "file_extension": ".py",
   "mimetype": "text/x-python",
   "name": "python",
   "nbconvert_exporter": "python",
   "pygments_lexer": "ipython3",
   "version": "3.13.5"
  }
 },
 "nbformat": 4,
 "nbformat_minor": 5
}
