{
 "cells": [
  {
   "cell_type": "code",
   "execution_count": null,
   "id": "e8eb0d8f-4903-4143-bc81-eba1a5edef9c",
   "metadata": {},
   "outputs": [],
   "source": [
    "import pandas as pd\n",
    "import matplotlib.pyplot as plt\n",
    "from pathlib import Path\n",
    "import glob"
   ]
  },
  {
   "cell_type": "code",
   "execution_count": null,
   "id": "0e882c34-ef4b-4f71-8d92-105a450b0511",
   "metadata": {},
   "outputs": [],
   "source": [
    "base_path  = Path('./EPA_GHGI_2025/2025_Main_Report_Tables') #draft 2025 report (1990-2023)\n",
    "# dataset = 'EPA_GHGI_DataExplorer/Data_Explorer_output.csv' #dataexplorer only goes to the 2024 report 1990-2022"
   ]
  },
  {
   "cell_type": "code",
   "execution_count": null,
   "id": "f2e90fa2-8300-4e1e-ae09-87a337cdace9",
   "metadata": {},
   "outputs": [],
   "source": [
    "sectors_final = ['Energy', 'Manufacturing', 'Land Management', 'Waste Management']"
   ]
  },
  {
   "cell_type": "code",
   "execution_count": null,
   "id": "4c5ec4e7-efd4-42ba-b5c3-821c86f21472",
   "metadata": {},
   "outputs": [],
   "source": [
    "sectors_EPA = ['Energy', 'Industrial Processes and Product Use', 'Agriculture', 'Waste', 'Total Gross Emissionsd  (Sources)', \n",
    "'LULUCF Sector Net Totae', 'Net Emission (Sources and Sinks)f']\n",
    "## [SIC] TYPOS IN THE DRAFT REPORT TABLES"
   ]
  },
  {
   "cell_type": "markdown",
   "id": "d6c4a3b7-3150-403f-8205-fc03aee39d43",
   "metadata": {},
   "source": [
    "## Functions"
   ]
  },
  {
   "cell_type": "code",
   "execution_count": null,
   "id": "84b645a3-3222-46ea-a15b-dd071701f02f",
   "metadata": {},
   "outputs": [],
   "source": [
    "def parse_report_tables(glob_path, notes_start_row):\n",
    "    path = list(base_path.glob(glob_path))[0]\n",
    "\n",
    "    # Notes and title\n",
    "    meta = pd.read_csv(path)\n",
    "    title = meta.columns[0]\n",
    "    notes = meta.iloc[notes_start_row:,0].tolist()\n",
    "\n",
    "    # Data\n",
    "    df_clean = pd.read_csv(path, header=1)\n",
    "    df_clean.set_index(df_clean.columns[0],inplace=True)\n",
    "    df_clean = df_clean.iloc[:notes_start_row-1,:]\n",
    "    return title, notes, df_clean"
   ]
  },
  {
   "cell_type": "markdown",
   "id": "6eccfd99-0bd6-4f0f-865d-84f2c3b104ab",
   "metadata": {},
   "source": [
    "## Emission Types for Each Sector"
   ]
  },
  {
   "cell_type": "markdown",
   "id": "9bf7a1e3-50d1-4616-8a08-c1cf002b7a6f",
   "metadata": {},
   "source": [
    "### Import data and parse"
   ]
  },
  {
   "cell_type": "code",
   "execution_count": null,
   "id": "cdb74ac0-28ed-480b-9406-f9887b9b1292",
   "metadata": {},
   "outputs": [],
   "source": [
    "emit_glob = \"Chapter 2*/Table 2-3.csv\"\n",
    "title_emit, notes_emit, df_emit = parse_report_tables(emit_glob, 64)\n",
    "print(title_emit,*notes_emit, sep='\\n')"
   ]
  },
  {
   "cell_type": "code",
   "execution_count": null,
   "id": "6fc1f2d3-72f5-46bc-b4ce-dcfda53c4f90",
   "metadata": {},
   "outputs": [],
   "source": [
    "# df_emit"
   ]
  },
  {
   "cell_type": "code",
   "execution_count": null,
   "id": "9f5ae447-f9a6-4adc-a0e8-1419c34008c7",
   "metadata": {},
   "outputs": [],
   "source": [
    "# WHATEVER VERSION OF THESE TABLES ARE THE DRAFTS NOT THE FINAL REPORT TABLES! TYPOS!!!!!!\n",
    "# df_clean.index.tolist() "
   ]
  },
  {
   "cell_type": "code",
   "execution_count": null,
   "id": "b42f6075-8007-41c1-a8ef-45602f5802b5",
   "metadata": {},
   "outputs": [],
   "source": [
    "# Need to split by subheaders:\n",
    "sector_col = []\n",
    "current_sector = None\n",
    "\n",
    "for idx, row in df_emit.iterrows():\n",
    "    if idx in sectors_EPA:\n",
    "        current_sector = idx\n",
    "        sector_col.append(current_sector)\n",
    "    else:\n",
    "        sector_col.append(current_sector)\n",
    "\n",
    "df_emit['Sector'] = sector_col\n",
    "new_columns = pd.MultiIndex.from_arrays([df_emit['Sector'], df_emit.index.get_level_values(0)])\n",
    "# new_columns[0]\n",
    "\n",
    "df_emit.set_index(new_columns, inplace=True)\n",
    "\n",
    "# Select 2021-2023\n",
    "df_emit_sub = df_emit.iloc[:, -4:-1]\n",
    "df_emit_sub"
   ]
  },
  {
   "cell_type": "code",
   "execution_count": null,
   "id": "1bf8db7b-56f8-4320-be2e-947f908ee280",
   "metadata": {},
   "outputs": [],
   "source": [
    "#Check the typos were all resolved\n",
    "# df_emit_sub.index.values"
   ]
  },
  {
   "cell_type": "markdown",
   "id": "f2568552-bfb0-45f1-a2b0-9232fa71e1c6",
   "metadata": {},
   "source": [
    "### Reorganize into sectors_final"
   ]
  },
  {
   "cell_type": "code",
   "execution_count": null,
   "id": "6e205073-cf8c-4119-9021-a897f424ea61",
   "metadata": {
    "scrolled": true
   },
   "outputs": [],
   "source": [
    "sectors_final"
   ]
  },
  {
   "cell_type": "code",
   "execution_count": null,
   "id": "2d190b19-7baa-4017-9016-5e96bcd8a7a9",
   "metadata": {},
   "outputs": [],
   "source": [
    "# Energy\n",
    "df_E = df_emit_sub.loc[sectors_EPA[0]].drop([sectors_EPA[0]])\n",
    "# df_E[\"2021-2023 Average\"] = df_E.mean(axis=1)\n",
    "\n",
    "# Manufacturing\n",
    "df_M = df_emit_sub.loc[sectors_EPA[1]].drop([sectors_EPA[1]])\n",
    "# df_M[\"2021-2023 Average\"] = df_M.mean(axis=1)\n",
    "\n",
    "# Land mgmt\n",
    "df_L1 = df_emit_sub.loc[sectors_EPA[2]].drop([sectors_EPA[2]])\n",
    "df_L2 = df_emit_sub.loc[sectors_EPA[5]].drop([sectors_EPA[5]])\n",
    "df_L = pd.concat([df_L1, df_L2])\n",
    "# df_L[\"2021-2023 Average\"] = df_L.mean(axis=1)\n",
    "\n",
    "\n",
    "# Waste mgmt\n",
    "df_W = df_emit_sub.loc[sectors_EPA[3]].drop([sectors_EPA[3]])\n",
    "# df_W[\"2021-2023 Average\"] = df_W.mean(axis=1)\n",
    "\n",
    "\n",
    "# Store dataframes in a dictionary\n",
    "dataframes_emittype = {\n",
    "    sectors_final[0]: df_E,\n",
    "    sectors_final[1]: df_M,\n",
    "    sectors_final[2]: df_L,\n",
    "    sectors_final[3]: df_W,\n",
    "    \n",
    "}"
   ]
  },
  {
   "cell_type": "markdown",
   "id": "fa7c3fcd-72a3-40d3-bc6e-cd90f7236a00",
   "metadata": {},
   "source": [
    "### Calculate average and percents and write out"
   ]
  },
  {
   "cell_type": "code",
   "execution_count": null,
   "id": "d0ae380c-f74d-40e1-b597-e7a9b208b961",
   "metadata": {},
   "outputs": [],
   "source": [
    "# Write to csv:\n",
    "for key, df in dataframes_emittype.items():\n",
    "    df[\"2021-2023 Average\"] = df.mean(axis=1)\n",
    "    if key != sectors_final[2]:\n",
    "        df[\"Percent\"] = (df.iloc[:,-1] / df.iloc[:,-1].sum())*100 # Calculate percent for all but land management\n",
    "    output=f'output_tables/{key}_Sectors.csv'\n",
    "    df.to_csv(output)"
   ]
  },
  {
   "cell_type": "markdown",
   "id": "48ccb7a5-20aa-4c22-a89c-5aa4fdf484d1",
   "metadata": {},
   "source": [
    "## Emission Gas Type for Each Sector"
   ]
  },
  {
   "cell_type": "markdown",
   "id": "38c51429-6b37-427f-882f-9cb2b290a5a2",
   "metadata": {},
   "source": [
    "### Energy"
   ]
  },
  {
   "cell_type": "code",
   "execution_count": null,
   "id": "5571d8fd-d84d-4183-825c-3c7c031bb474",
   "metadata": {},
   "outputs": [],
   "source": [
    "energy_gas_glob = \"Chapter 2*/Table 2-4.csv\"\n",
    "title_E_gas, notes_E_gas, df_E_gas = parse_report_tables(energy_gas_glob, 39)\n",
    "print(title_E_gas,*notes_E_gas, sep='\\n')"
   ]
  },
  {
   "cell_type": "code",
   "execution_count": null,
   "id": "7fef1bc1-fdf8-4e44-9e2f-5ed878346870",
   "metadata": {},
   "outputs": [],
   "source": [
    "gas_energy = ['CO2','CH4', 'N2O']\n",
    "df_E_gas_sub = df_E_gas.loc[gas_energy].iloc[:, -4:-1]\n",
    "df_E_gas_sub"
   ]
  },
  {
   "cell_type": "markdown",
   "id": "dc8be813-79c4-4add-8b6e-1acbf2fdb052",
   "metadata": {},
   "source": [
    "### Manufacturing"
   ]
  },
  {
   "cell_type": "code",
   "execution_count": null,
   "id": "3a277f69-b5d4-4a70-b525-466998c3df8d",
   "metadata": {},
   "outputs": [],
   "source": [
    "man_gas_glob = \"Chapter 2*/Table 2-6.csv\"\n",
    "title_M_gas, notes_M_gas, df_M_gas = parse_report_tables(man_gas_glob, 58)\n",
    "print(title_M_gas,*notes_M_gas, sep='\\n')"
   ]
  },
  {
   "cell_type": "code",
   "execution_count": null,
   "id": "36162e10-37e4-495b-86bc-e695f7c37fa6",
   "metadata": {},
   "outputs": [],
   "source": [
    "gas_man = ['CO2','CH4', 'N2O', 'HFCs', 'PFCs', 'SF6', 'NF3']\n",
    "df_M_gas_sub = df_M_gas.loc[gas_man].iloc[:, -4:-1]\n",
    "df_M_gas_sub"
   ]
  },
  {
   "cell_type": "markdown",
   "id": "b1158e85-b98d-4190-9bd3-047c5cd8d3d9",
   "metadata": {},
   "source": [
    "### Land Management (this needs work for the land use/change table - how do I extract gases)"
   ]
  },
  {
   "cell_type": "markdown",
   "id": "078bc1b6-8e47-4098-8e8a-432f4afe7ded",
   "metadata": {},
   "source": [
    "### Agriculture"
   ]
  },
  {
   "cell_type": "code",
   "execution_count": null,
   "id": "c5075204-eac1-4810-a55a-415dd27476be",
   "metadata": {},
   "outputs": [],
   "source": [
    "land1_gas_glob = \"Chapter 2*/Table 2-7.csv\"\n",
    "title_L1_gas, notes_L1_gas, df_L1_gas = parse_report_tables(land1_gas_glob, 14)\n",
    "print(title_L1_gas,*notes_L1_gas, sep='\\n')"
   ]
  },
  {
   "cell_type": "code",
   "execution_count": null,
   "id": "5c3283a0-b45a-4f65-bec1-1e7483b9e61c",
   "metadata": {},
   "outputs": [],
   "source": [
    "gas_land1 = ['CO2','CH4', 'N2O']\n",
    "df_L1_gas_sub = df_L1_gas.loc[gas_land1].iloc[:, -4:-1]\n",
    "df_L1_gas_sub"
   ]
  },
  {
   "cell_type": "markdown",
   "id": "1271e2e4-9d42-403e-8732-1e32069fe882",
   "metadata": {},
   "source": [
    "### Land Use, Land-Use Change, Forestry (LULCF)"
   ]
  },
  {
   "cell_type": "code",
   "execution_count": null,
   "id": "1b9c872d-f553-474e-9c95-a968dbdd9b93",
   "metadata": {},
   "outputs": [],
   "source": [
    "land2_gas_glob = \"Chapter 6*/Table 6-2.csv\"\n",
    "title_L2_gas, _, df_L2_gas = parse_report_tables(land2_gas_glob, 32) # The notes are in another column"
   ]
  },
  {
   "cell_type": "code",
   "execution_count": null,
   "id": "1a3199f8-67d2-40ce-bc43-3b95493ab2cf",
   "metadata": {},
   "outputs": [],
   "source": [
    "metaL2 = pd.read_csv(list(base_path.glob(land2_gas_glob))[0])\n",
    "notes_L2_gas = metaL2.iloc[32:,:2].values.tolist()\n",
    "print(title_L2_gas,*notes_L2_gas, sep='\\n')"
   ]
  },
  {
   "cell_type": "code",
   "execution_count": null,
   "id": "02ed0298-850d-47d6-8956-16e586847b7a",
   "metadata": {},
   "outputs": [],
   "source": [
    "gas_land2 = ['Carbon Stock Change (CO2)a','CH4', 'N2O']\n",
    "df_L2_gas_sub = df_L2_gas.loc[gas_land2].iloc[:, -3:]\n",
    "df_L2_gas_sub = df_L2_gas_sub.rename(index={'Carbon Stock Change (CO2)a':'CO2'})"
   ]
  },
  {
   "cell_type": "markdown",
   "id": "dc8bafcb-ab77-4aba-a218-e9b73a577951",
   "metadata": {},
   "source": [
    "### Combine L1 and L2"
   ]
  },
  {
   "cell_type": "code",
   "execution_count": null,
   "id": "658dd48a-fa08-4258-a9a5-04a29e94c838",
   "metadata": {},
   "outputs": [],
   "source": [
    "df_L_gas_sub = df_L1_gas_sub + df_L2_gas_sub\n",
    "df_L_gas_sub"
   ]
  },
  {
   "cell_type": "markdown",
   "id": "011764d9-efc6-40f0-ba7e-014dc2ce7d83",
   "metadata": {},
   "source": [
    "### Waste Management"
   ]
  },
  {
   "cell_type": "code",
   "execution_count": null,
   "id": "5678d458-0fb3-40b4-8959-10f67a77ce80",
   "metadata": {},
   "outputs": [],
   "source": [
    "man_was_glob = \"Chapter 2*/Table 2-9.csv\"\n",
    "title_W_gas, notes_W_gas, df_W_gas = parse_report_tables(man_was_glob, 10)\n",
    "print(title_W_gas,*notes_W_gas, sep='\\n')"
   ]
  },
  {
   "cell_type": "code",
   "execution_count": null,
   "id": "25536896-7e5f-48e3-825b-13c43c24ebda",
   "metadata": {},
   "outputs": [],
   "source": [
    "gas_was = ['CH4', 'N2O']\n",
    "df_W_gas_sub = df_W_gas.loc[gas_was].iloc[:, -4:-1]\n",
    "df_W_gas_sub"
   ]
  },
  {
   "cell_type": "markdown",
   "id": "8c386c61-836f-449b-8eed-2eacd9e832aa",
   "metadata": {},
   "source": [
    "### Make dictionary of dataframes by emittype"
   ]
  },
  {
   "cell_type": "code",
   "execution_count": null,
   "id": "c30d75e7-7936-4c27-af40-619ad714d3e0",
   "metadata": {},
   "outputs": [],
   "source": [
    "dataframes_gastype = {\n",
    "    sectors_final[0]: df_E_gas_sub,\n",
    "    sectors_final[1]: df_M_gas_sub,\n",
    "    sectors_final[2]: df_L_gas_sub,\n",
    "    sectors_final[3]: df_W_gas_sub,\n",
    "    \n",
    "}"
   ]
  },
  {
   "cell_type": "code",
   "execution_count": null,
   "id": "1865438f-e6bf-43f0-adee-5e8bfdb48f3b",
   "metadata": {},
   "outputs": [],
   "source": [
    "# for df in dataframes_gastype.values():\n",
    "#     # print(df)\n",
    "#     df[\"2021-2023 Average\"] = df.mean(axis=1)\n",
    "#     df[\"Percent\"] = (df.iloc[:,-1] / df.iloc[:,-1].sum())*100"
   ]
  },
  {
   "cell_type": "code",
   "execution_count": null,
   "id": "3fd43684-b923-4c40-b87b-3c39bd931866",
   "metadata": {},
   "outputs": [],
   "source": [
    "# Write to csv:\n",
    "for key, df in dataframes_gastype.items():\n",
    "    df[\"2021-2023 Average\"] = df.mean(axis=1)\n",
    "    if key != sectors_final[2]:\n",
    "        df[\"Percent\"] = (df.iloc[:,-1] / df.iloc[:,-1].sum())*100 # Calculate percent for all but land management\n",
    "    output=f'output_tables/{key}_Gases.csv'\n",
    "    df.to_csv(output)"
   ]
  },
  {
   "cell_type": "code",
   "execution_count": null,
   "id": "3fd6f7e3-a7a9-409b-9290-bfeab200d504",
   "metadata": {},
   "outputs": [],
   "source": [
    "# dataframes_emittype\n",
    "# dataframes_gastype"
   ]
  },
  {
   "cell_type": "markdown",
   "id": "a34a3c23-a51d-4508-8366-b25d0f66947b",
   "metadata": {},
   "source": [
    "## Plot"
   ]
  },
  {
   "cell_type": "code",
   "execution_count": null,
   "id": "2565c5ab-68db-42f2-86ec-9ed030661707",
   "metadata": {},
   "outputs": [],
   "source": [
    "# fig.suptitle('2021-2023 Average Emissions',y=0.95)\n",
    "for (idx, (sector, df1)), (idx, (sector, df2)) in zip(enumerate(dataframes_emittype.items()), enumerate(dataframes_gastype.items())):\n",
    "    # Skip land use\n",
    "    if idx==2:\n",
    "        continue\n",
    "    else:\n",
    "        fig, ax = plt.subplots(1, 2, figsize=(12,10), \n",
    "                       constrained_layout=True\n",
    "                      )\n",
    "        fig.suptitle(sector, y=0.9)\n",
    "        \n",
    "        df1_avg = df1.mean(axis=1).to_frame('2021-2023 Average')\n",
    "        df1_avg[\"Percent\"] = (df1_avg.iloc[:, 0] / df1_avg.iloc[:, 0].sum()).apply(lambda x: f\"{x:.3%}\")\n",
    "        # print(df1_avg)\n",
    "        ax[0].pie(df1_avg.iloc[:,0], \n",
    "                           startangle=90,)\n",
    "        ax[0].legend(df1_avg.index,\n",
    "                    # loc=\"best\",\n",
    "                    )\n",
    "        ax[0].set_title('Emission Type')\n",
    "\n",
    "        df2_avg = df2.mean(axis=1).to_frame('2021-2023 Average')\n",
    "        df2_avg[\"Percent\"] = (df2_avg.iloc[:, 0] / df2_avg.iloc[:, 0].sum()).apply(lambda x: f\"{x:.3%}\")\n",
    "        ax[1].pie(df2_avg.iloc[:,0], \n",
    "                           startangle=90,)\n",
    "        ax[1].legend(df2_avg.index)\n",
    "        \n",
    "        ax[1].set_title('Gas Type')\n",
    "\n",
    "                # # axis.legend(labels, \n",
    "        # #             fontsize=9,\n",
    "        # #             bbox_to_anchor=(2, 0.5)\n",
    "        # #            )\n",
    "    \n",
    "        # # labels = [f\"{label}: {percent}\" for label, percent in zip(df_avg.index, df_avg['Percent'])]\n",
    "        # # axis = ax.flat[idx]\n",
    "        # # axis.pie(df_avg.iloc[:,0], \n",
    "        # #                    startangle=90,\n",
    "        # #                   )\n",
    "        # # axis.legend(labels, \n",
    "        # #             loc=\"center right\", \n",
    "        # #             fontsize=9,\n",
    "        # #             bbox_to_anchor=(2, 0.5)$ \n",
    "        # #            )\n"
   ]
  },
  {
   "cell_type": "code",
   "execution_count": null,
   "id": "39da093b-d73e-4db2-95e9-60ea3ad3e9d3",
   "metadata": {},
   "outputs": [],
   "source": []
  },
  {
   "cell_type": "code",
   "execution_count": null,
   "id": "ab9adf27-d71c-4059-b369-e5960cdee359",
   "metadata": {},
   "outputs": [],
   "source": []
  }
 ],
 "metadata": {
  "kernelspec": {
   "display_name": "GHGI-viewer",
   "language": "python",
   "name": "ghgi-viewer"
  },
  "language_info": {
   "codemirror_mode": {
    "name": "ipython",
    "version": 3
   },
   "file_extension": ".py",
   "mimetype": "text/x-python",
   "name": "python",
   "nbconvert_exporter": "python",
   "pygments_lexer": "ipython3",
   "version": "3.13.5"
  }
 },
 "nbformat": 4,
 "nbformat_minor": 5
}
